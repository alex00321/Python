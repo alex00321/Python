{
 "cells": [
  {
   "cell_type": "code",
   "execution_count": 2,
   "metadata": {},
   "outputs": [
    {
     "name": "stdout",
     "output_type": "stream",
     "text": [
      "30\n",
      "37\n"
     ]
    }
   ],
   "source": [
    "from datetime import date, datetime\n",
    "class User:\n",
    "    def __init__(self, name, birthday) -> None:\n",
    "        self.name = name\n",
    "        self.birthday = birthday\n",
    "        self._age = 0\n",
    "    @property\n",
    "    def age(self):\n",
    "        return datetime.now().year - self.birthday.year\n",
    "    \n",
    "    @age.setter\n",
    "    def age(self, value):\n",
    "        self._age = value\n",
    "\n",
    "user = User(\"alex\",date(1987,3,1))\n",
    "user.age = 30\n",
    "print(user._age)\n",
    "\n",
    "print(user.age)"
   ]
  },
  {
   "cell_type": "code",
   "execution_count": 7,
   "metadata": {},
   "outputs": [
    {
     "name": "stdout",
     "output_type": "stream",
     "text": [
      "dsadsa\n"
     ]
    }
   ],
   "source": [
    "from datetime import date\n",
    "from typing import Any\n",
    "class User:\n",
    "    def __init__(self, info={}) -> None:\n",
    "        self.info = info\n",
    "    \n",
    "    def __getattr__(self, item):\n",
    "        return self.info[item]\n",
    "\n",
    "    # def __getattribute__(self, item):\n",
    "    #     return \"bobby\"\n",
    "\n",
    "user = User(info={\"Company_name\":\"imooc\",\"name\":\"dsadsa\"})\n",
    "print(user.name)"
   ]
  },
  {
   "cell_type": "code",
   "execution_count": 26,
   "metadata": {},
   "outputs": [
    {
     "name": "stdout",
     "output_type": "stream",
     "text": [
      "{'age': 'dsa'}\n"
     ]
    },
    {
     "ename": "AttributeError",
     "evalue": "'IntField' object has no attribute 'value'",
     "output_type": "error",
     "traceback": [
      "\u001b[1;31m---------------------------------------------------------------------------\u001b[0m",
      "\u001b[1;31mAttributeError\u001b[0m                            Traceback (most recent call last)",
      "Cell \u001b[1;32mIn[26], line 24\u001b[0m\n\u001b[0;32m     22\u001b[0m user\u001b[38;5;241m.\u001b[39m\u001b[38;5;18m__dict__\u001b[39m[\u001b[38;5;124m\"\u001b[39m\u001b[38;5;124mage\u001b[39m\u001b[38;5;124m\"\u001b[39m] \u001b[38;5;241m=\u001b[39m\u001b[38;5;124m\"\u001b[39m\u001b[38;5;124mdsa\u001b[39m\u001b[38;5;124m\"\u001b[39m\n\u001b[0;32m     23\u001b[0m \u001b[38;5;28mprint\u001b[39m(user\u001b[38;5;241m.\u001b[39m\u001b[38;5;18m__dict__\u001b[39m)\n\u001b[1;32m---> 24\u001b[0m \u001b[38;5;28mprint\u001b[39m(\u001b[38;5;28;43mgetattr\u001b[39;49m\u001b[43m(\u001b[49m\u001b[43muser\u001b[49m\u001b[43m,\u001b[49m\u001b[38;5;124;43m\"\u001b[39;49m\u001b[38;5;124;43mage\u001b[39;49m\u001b[38;5;124;43m\"\u001b[39;49m\u001b[43m)\u001b[49m)\n",
      "Cell \u001b[1;32mIn[26], line 6\u001b[0m, in \u001b[0;36mIntField.__get__\u001b[1;34m(self, instacne, owner)\u001b[0m\n\u001b[0;32m      5\u001b[0m \u001b[38;5;28;01mdef\u001b[39;00m \u001b[38;5;21m__get__\u001b[39m(\u001b[38;5;28mself\u001b[39m,instacne,owner):\n\u001b[1;32m----> 6\u001b[0m     \u001b[38;5;28;01mreturn\u001b[39;00m \u001b[38;5;28;43mself\u001b[39;49m\u001b[38;5;241;43m.\u001b[39;49m\u001b[43mvalue\u001b[49m\n",
      "\u001b[1;31mAttributeError\u001b[0m: 'IntField' object has no attribute 'value'"
     ]
    }
   ],
   "source": [
    "from datetime import date, datetime\n",
    "import numbers\n",
    "\n",
    "class IntField:\n",
    "    def __get__(self,instacne,owner):\n",
    "        return self.value\n",
    "    def __set__(self,instance,value):\n",
    "        if not isinstance(value,numbers.Integral):\n",
    "            raise ValueError(\"int value needed\")\n",
    "        if value <0:\n",
    "            raise ValueError(\"positive value needed\")\n",
    "        self.value = value\n",
    "    def __delete__(self,instance):\n",
    "        pass\n",
    "class NonDataIntField:\n",
    "    def __get__(self, instance,owner):\n",
    "        return self.value\n",
    "class User:\n",
    "    age = IntField()\n",
    "\n",
    "user = User()\n",
    "user.__dict__[\"age\"] =\"dsa\"\n",
    "print(user.__dict__)\n",
    "print(getattr(user,\"age\"))\n"
   ]
  },
  {
   "cell_type": "code",
   "execution_count": 39,
   "metadata": {},
   "outputs": [
    {
     "name": "stdout",
     "output_type": "stream",
     "text": [
      "in new\n"
     ]
    }
   ],
   "source": [
    "class User:\n",
    "    def __new__(cls,*args,**kwargs):\n",
    "        print(\"in new\")\n",
    "        return super().__new__(cls)\n",
    "    def __init__(self,name):\n",
    "        print(\"in init\")\n",
    "        pass\n",
    "a = int()\n",
    "user = User(name=\"alex\")\n"
   ]
  },
  {
   "cell_type": "code",
   "execution_count": 33,
   "metadata": {},
   "outputs": [
    {
     "name": "stdout",
     "output_type": "stream",
     "text": [
      "<class '__main__.create_class.<locals>.User'>\n"
     ]
    }
   ],
   "source": [
    "def create_class(name):\n",
    "    if name == \"user\":\n",
    "        class User:\n",
    "            def __str__(self):\n",
    "                return \"user\"\n",
    "        return User\n",
    "    elif name ==\"company\":\n",
    "        class Company:\n",
    "            def __str__(self):\n",
    "                return \"company\"\n",
    "        return Company\n",
    "\n",
    "myClass = create_class(\"user\")\n",
    "my_obj = myClass()\n",
    "print(type(my_obj))"
   ]
  },
  {
   "cell_type": "code",
   "execution_count": 37,
   "metadata": {},
   "outputs": [
    {
     "name": "stdout",
     "output_type": "stream",
     "text": [
      "<class '__main__.User'>\n",
      "i am user\n"
     ]
    }
   ],
   "source": [
    "def say(self):\n",
    "    return \"i am user\"\n",
    "\n",
    "class BaseClass():\n",
    "    def answer(self):\n",
    "        return \"i am baseclass\"\n",
    "\n",
    "User = type(\"User\",(BaseClass,),{\"name\":\"user\",\"say\":say})\n",
    "my_obj = User()\n",
    "print(type(my_obj))\n",
    "print(my_obj.say())"
   ]
  },
  {
   "cell_type": "code",
   "execution_count": 41,
   "metadata": {},
   "outputs": [],
   "source": [
    "class MetaClass(type):\n",
    "    def __new__(cls,*args,**kwargs):\n",
    "        return super().__new__(cls,*args,**kwargs)\n",
    "class User(metaclass = MetaClass):\n",
    "    def __init__(self,name):\n",
    "        self.name = name\n",
    "    def __str__(self):\n",
    "        return \"user\"\n"
   ]
  },
  {
   "cell_type": "code",
   "execution_count": 42,
   "metadata": {},
   "outputs": [],
   "source": [
    "class BaseClass():\n",
    "    def answer(self):\n",
    "        return \"i am baseclass\"\n",
    "\n",
    "class MetaClass(type):\n",
    "    def __new__(cls,*args,**kwargs):\n",
    "        return super().__new__(cls, *args,**kwargs)\n",
    "\n",
    "class User(BaseClass,metaclass = MetaClass):\n",
    "    def __init__(self,name):\n",
    "        self.name = name\n",
    "    def __str__(self):\n",
    "        return \"user\""
   ]
  },
  {
   "cell_type": "code",
   "execution_count": 44,
   "metadata": {},
   "outputs": [
    {
     "name": "stdout",
     "output_type": "stream",
     "text": [
      "[DEBUG]: enter say_hello()\n",
      "hello!\n"
     ]
    }
   ],
   "source": [
    "def debug(func):\n",
    "    def wrapper():\n",
    "        print(\"[DEBUG]: enter {}()\".format(func.__name__))\n",
    "        return func()\n",
    "    return wrapper\n",
    "\n",
    "@debug\n",
    "def say_hello():\n",
    "    print(\"hello!\")\n",
    "\n",
    "say_hello()"
   ]
  },
  {
   "cell_type": "code",
   "execution_count": 46,
   "metadata": {},
   "outputs": [
    {
     "name": "stdout",
     "output_type": "stream",
     "text": [
      "[INFO]: enter function say()\n",
      "say hello\n",
      "[DEBUG]: enter function do()\n",
      "do ...my work\n"
     ]
    }
   ],
   "source": [
    "\n",
    "def logging(level):\n",
    "    def wrapper(func):\n",
    "        def inner_wrapper(*args,**kwargs):\n",
    "            print(\"[{}]: enter function {}()\".format(level,func.__name__))\n",
    "            return func(*args,**kwargs)\n",
    "        return inner_wrapper\n",
    "    return wrapper\n",
    "\n",
    "@logging(level = \"INFO\")\n",
    "def say(something):\n",
    "    print(\"say {}\".format(something))\n",
    "\n",
    "@logging(level = \"DEBUG\")\n",
    "def do(something):\n",
    "    print(\"do ...{}\".format(something))\n",
    "say(\"hello\")\n",
    "do(\"my work\")\n"
   ]
  },
  {
   "cell_type": "code",
   "execution_count": 47,
   "metadata": {},
   "outputs": [
    {
     "name": "stdout",
     "output_type": "stream",
     "text": [
      "[DEBUG]: enter function say()\n",
      "say Never give up!!\n"
     ]
    }
   ],
   "source": [
    "class logging(object):\n",
    "    def __init__(self,func):\n",
    "        self.func = func\n",
    "    \n",
    "    def __call__(self,*args,**kwargs):\n",
    "        print(\"[DEBUG]: enter function {}()\".format(self.func.__name__))\n",
    "        return self.func(*args,**kwargs)\n",
    "\n",
    "@logging\n",
    "def say(something):\n",
    "    print(\"say {}!\".format(something))\n",
    "\n",
    "say(\"Never give up!\")"
   ]
  },
  {
   "cell_type": "code",
   "execution_count": 49,
   "metadata": {},
   "outputs": [
    {
     "name": "stdout",
     "output_type": "stream",
     "text": [
      "[INFO]: enter function say()\n",
      "say Never give up!!\n"
     ]
    }
   ],
   "source": [
    "class logging(object):\n",
    "    def __init__(self,level = \"INFO\"):\n",
    "        self.level = level\n",
    "    \n",
    "    def __call__(self,func):\n",
    "        def wrapper(*args,**kwargs):\n",
    "            print(\"[{}]: enter function {}()\".format(self.level,func.__name__))\n",
    "            func(*args,**kwargs)\n",
    "        return wrapper\n",
    "\n",
    "@logging(level = \"INFO\")\n",
    "def say(something):\n",
    "    print(\"say {}!\".format(something))\n",
    "\n",
    "say(\"Never give up!\")"
   ]
  }
 ],
 "metadata": {
  "kernelspec": {
   "display_name": "Python 3",
   "language": "python",
   "name": "python3"
  },
  "language_info": {
   "codemirror_mode": {
    "name": "ipython",
    "version": 3
   },
   "file_extension": ".py",
   "mimetype": "text/x-python",
   "name": "python",
   "nbconvert_exporter": "python",
   "pygments_lexer": "ipython3",
   "version": "3.10.5"
  }
 },
 "nbformat": 4,
 "nbformat_minor": 2
}
