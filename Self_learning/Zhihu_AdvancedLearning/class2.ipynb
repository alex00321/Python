{
 "cells": [
  {
   "cell_type": "code",
   "execution_count": 1,
   "metadata": {},
   "outputs": [
    {
     "name": "stdout",
     "output_type": "stream",
     "text": [
      "2\n",
      "deque([1, 2, 3, 5, 6])\n"
     ]
    }
   ],
   "source": [
    "import bisect\n",
    "from collections import deque\n",
    "\n",
    "inter_list = deque()\n",
    "bisect.insort(inter_list,3)\n",
    "bisect.insort(inter_list,2)\n",
    "bisect.insort(inter_list,5)\n",
    "bisect.insort(inter_list,1)\n",
    "bisect.insort(inter_list,6)\n",
    "\n",
    "print(bisect.bisect_left(inter_list,3))\n",
    "print(inter_list)"
   ]
  },
  {
   "cell_type": "code",
   "execution_count": 2,
   "metadata": {},
   "outputs": [
    {
     "ename": "TypeError",
     "evalue": "'str' object cannot be interpreted as an integer",
     "output_type": "error",
     "traceback": [
      "\u001b[1;31m---------------------------------------------------------------------------\u001b[0m",
      "\u001b[1;31mTypeError\u001b[0m                                 Traceback (most recent call last)",
      "Cell \u001b[1;32mIn[2], line 4\u001b[0m\n\u001b[0;32m      2\u001b[0m my_arr \u001b[38;5;241m=\u001b[39m array\u001b[38;5;241m.\u001b[39marray(\u001b[38;5;124m\"\u001b[39m\u001b[38;5;124mi\u001b[39m\u001b[38;5;124m\"\u001b[39m)\n\u001b[0;32m      3\u001b[0m my_arr\u001b[38;5;241m.\u001b[39mappend(\u001b[38;5;241m1\u001b[39m)\n\u001b[1;32m----> 4\u001b[0m \u001b[43mmy_arr\u001b[49m\u001b[38;5;241;43m.\u001b[39;49m\u001b[43mappend\u001b[49m\u001b[43m(\u001b[49m\u001b[38;5;124;43m\"\u001b[39;49m\u001b[38;5;124;43mabc\u001b[39;49m\u001b[38;5;124;43m\"\u001b[39;49m\u001b[43m)\u001b[49m\n",
      "\u001b[1;31mTypeError\u001b[0m: 'str' object cannot be interpreted as an integer"
     ]
    }
   ],
   "source": [
    "import array\n",
    "my_arr = array.array(\"i\")\n",
    "my_arr.append(1)\n",
    "my_arr.append(\"abc\")"
   ]
  },
  {
   "cell_type": "code",
   "execution_count": 23,
   "metadata": {},
   "outputs": [
    {
     "name": "stdout",
     "output_type": "stream",
     "text": [
      "[3, 4, 5, 6, 7, 9, 11, 13, 15, 17]\n",
      "[17, 15, 13, 11, 9, 7, 6, 5, 4, 3]\n",
      "[3, 5, 7, 11, 15]\n",
      "[4, 6, 9, 13, 17]\n",
      "[6, 7, 9]\n"
     ]
    },
    {
     "data": {
      "text/plain": [
       "[]"
      ]
     },
     "execution_count": 23,
     "metadata": {},
     "output_type": "execute_result"
    }
   ],
   "source": [
    "aList = [3,4,5,6,7,9,11,13,15,17]\n",
    "print(aList[::])\n",
    "print(aList[::-1])\n",
    "print(aList[::2])\n",
    "print(aList[1::2])\n",
    "print(aList[3:6])\n",
    "aList[0:100]\n",
    "aList[100:]\n",
    "\n",
    "aList[len(aList):]=[9]\n",
    "aList[:0] = [1,2]\n",
    "aList[3:8] = [4]\n",
    "aList[:3]=[1,2]\n",
    "aList[3:]=[4,5,6]\n",
    "aList[::2] = [0]*3\n",
    "aList[::2] = [\"a\",\"b\",\"c\"]\n",
    "aList[:3] = []\n",
    "del aList[:3]\n",
    "aList\n"
   ]
  },
  {
   "cell_type": "code",
   "execution_count": 27,
   "metadata": {},
   "outputs": [
    {
     "name": "stdout",
     "output_type": "stream",
     "text": [
      "<class 'list'>\n",
      "<class 'generator'>\n",
      "{'bobby1': 'key1', 'bobby2': 'key2'}\n",
      "{'key1', 'key2'}\n"
     ]
    }
   ],
   "source": [
    "int_list = [1,2,3,4,5]\n",
    "qu_list = [item * item for item in int_list]\n",
    "print(type(qu_list))\n",
    "\n",
    "odd_gen = (i for i in range(5) if i%2==1)\n",
    "print(type(odd_gen))\n",
    "odd_list = list(odd_gen)\n",
    "\n",
    "my_dict = {\"key1\":\"bobby1\",\"key2\":\"bobby2\"}\n",
    "reversed_dict = {value:key for key, value in my_dict.items()}\n",
    "print(reversed_dict)\n",
    "\n",
    "my_set = {key for key,value in my_dict.items()}\n",
    "print(my_set)"
   ]
  }
 ],
 "metadata": {
  "kernelspec": {
   "display_name": "Python 3",
   "language": "python",
   "name": "python3"
  },
  "language_info": {
   "codemirror_mode": {
    "name": "ipython",
    "version": 3
   },
   "file_extension": ".py",
   "mimetype": "text/x-python",
   "name": "python",
   "nbconvert_exporter": "python",
   "pygments_lexer": "ipython3",
   "version": "3.10.5"
  }
 },
 "nbformat": 4,
 "nbformat_minor": 2
}
