{
 "cells": [
  {
   "cell_type": "code",
   "execution_count": 3,
   "metadata": {},
   "outputs": [
    {
     "name": "stdout",
     "output_type": "stream",
     "text": [
      "Yes\n",
      "True\n",
      "1674117345984 1674117336000\n",
      "False\n"
     ]
    }
   ],
   "source": [
    "a = [1,2,3,4]\n",
    "b = [1,2,3,4]\n",
    "class People:\n",
    "    pass\n",
    "\n",
    "person = People()\n",
    "if type(person) is People:\n",
    "    print(\"Yes\")\n",
    "\n",
    "print(a==b)\n",
    "print(id(a),id(b))\n",
    "print(a is b)"
   ]
  },
  {
   "cell_type": "code",
   "execution_count": 8,
   "metadata": {},
   "outputs": [
    {
     "name": "stdout",
     "output_type": "stream",
     "text": [
      "['bobby2', 'bobby3']\n",
      "['bobby']\n",
      "(['bobby'],)\n",
      "['bobby2', 'bobby3']\n",
      "['bobby', 'bobby5']\n",
      "False\n"
     ]
    }
   ],
   "source": [
    "class Company:\n",
    "    def __init__(self,name, staffs = []) -> None:\n",
    "        self.name= name\n",
    "        self.staffs = staffs\n",
    "    def add(self, staff_name):\n",
    "        self.staffs.append(staff_name)\n",
    "    def remove(self,staff_name):\n",
    "        self.staffs.remove(staff_name)\n",
    "\n",
    "com1 = Company(\"Com1\",[\"bobby1\",\"bobby2\"])\n",
    "com1.add(\"bobby3\")\n",
    "com1.remove(\"bobby1\")\n",
    "print(com1.staffs)\n",
    "\n",
    "com2 = Company(\"Com2\")\n",
    "com2.add(\"bobby\")\n",
    "print(com2.staffs)\n",
    "print(Company.__init__.__defaults__)\n",
    "com3= Company(\"Com3\")\n",
    "com3.add(\"bobby5\")\n",
    "\n",
    "print(com1.staffs)\n",
    "print(com2.staffs)\n",
    "print(com1.staffs is com2.staffs)"
   ]
  }
 ],
 "metadata": {
  "kernelspec": {
   "display_name": "Python 3",
   "language": "python",
   "name": "python3"
  },
  "language_info": {
   "codemirror_mode": {
    "name": "ipython",
    "version": 3
   },
   "file_extension": ".py",
   "mimetype": "text/x-python",
   "name": "python",
   "nbconvert_exporter": "python",
   "pygments_lexer": "ipython3",
   "version": "3.10.5"
  }
 },
 "nbformat": 4,
 "nbformat_minor": 2
}
