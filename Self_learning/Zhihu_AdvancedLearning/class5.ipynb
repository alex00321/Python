{
 "cells": [
  {
   "cell_type": "code",
   "execution_count": 3,
   "metadata": {},
   "outputs": [
    {
     "name": "stdout",
     "output_type": "stream",
     "text": [
      "True\n",
      "True\n"
     ]
    }
   ],
   "source": [
    "from collections.abc import Iterable, Iterator\n",
    "a = [1,2]\n",
    "iter_rator = iter(a)\n",
    "print(isinstance(a,Iterable))\n",
    "print(isinstance(iter_rator,Iterator))"
   ]
  },
  {
   "cell_type": "code",
   "execution_count": 8,
   "metadata": {},
   "outputs": [
    {
     "name": "stdout",
     "output_type": "stream",
     "text": [
      "tom\n",
      "bob\n",
      "jane\n"
     ]
    }
   ],
   "source": [
    "from collections.abc import Iterator\n",
    "class Company(object):\n",
    "    def __init__(self,employee_list):\n",
    "        self.employee = employee_list\n",
    "    \n",
    "    def __iter__(self):\n",
    "        return MyIterator(self.employee)\n",
    "    \n",
    "    def __getitem__(self,item):\n",
    "        return self.employee[item]\n",
    "\n",
    "class MyIterator(Iterator):\n",
    "    def __init__(self,employee_list):\n",
    "        self.iter_list = employee_list\n",
    "        self.index = 0\n",
    "\n",
    "    def __next__(self):\n",
    "        try:\n",
    "            word = self.iter_list[self.index]\n",
    "        except IndexError:\n",
    "            raise StopIteration\n",
    "        self.index +=1\n",
    "        return word\n",
    "\n",
    "company = Company([\"tom\",\"bob\",\"jane\"])\n",
    "my_itor = iter(company)\n",
    "for item in company:\n",
    "    print(item)\n",
    "# while True:\n",
    "#     try:\n",
    "#         print(next(my_itor))\n",
    "#     except StopIteration:\n",
    "#         pass\n"
   ]
  },
  {
   "cell_type": "code",
   "execution_count": 11,
   "metadata": {},
   "outputs": [
    {
     "name": "stdout",
     "output_type": "stream",
     "text": [
      "1\n",
      "1\n",
      "2\n",
      "3\n",
      "5\n",
      "8\n",
      "13\n",
      "21\n",
      "34\n",
      "55\n"
     ]
    }
   ],
   "source": [
    "def get_fib(index):\n",
    "    n,a,b = 0,0,1\n",
    "    while n < index:\n",
    "        yield b\n",
    "        a,b = b,a+b\n",
    "        n += 1\n",
    "\n",
    "for data in get_fib(10):\n",
    "    print(data)"
   ]
  }
 ],
 "metadata": {
  "kernelspec": {
   "display_name": "Python 3",
   "language": "python",
   "name": "python3"
  },
  "language_info": {
   "codemirror_mode": {
    "name": "ipython",
    "version": 3
   },
   "file_extension": ".py",
   "mimetype": "text/x-python",
   "name": "python",
   "nbconvert_exporter": "python",
   "pygments_lexer": "ipython3",
   "version": "3.10.5"
  }
 },
 "nbformat": 4,
 "nbformat_minor": 2
}
