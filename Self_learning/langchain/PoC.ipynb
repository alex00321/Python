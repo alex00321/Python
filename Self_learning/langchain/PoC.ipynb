{
 "cells": [
  {
   "cell_type": "code",
   "execution_count": 16,
   "metadata": {},
   "outputs": [],
   "source": [
    "#from langchain.llms import OpenAI\n",
    "from openai import OpenAI\n",
    "import os\n",
    "os.environ[\"OPENAI_API_KEY\"] = \"sk-X63cKtEbg3aCYwXLK14lcmCbHc3Jhc6P3CBiyiDu0hJZ8Foc\""
   ]
  },
  {
   "cell_type": "code",
   "execution_count": 17,
   "metadata": {},
   "outputs": [],
   "source": [
    "client = OpenAI(\n",
    "    # defaults to os.environ.get(\"OPENAI_API_KEY\")\n",
    "    api_key=\"sk-X63cKtEbg3aCYwXLK14lcmCbHc3Jhc6P3CBiyiDu0hJZ8Foc\",\n",
    "    base_url=\"https://api.chatanywhere.tech/v1\"\n",
    "    # base_url=\"https://api.chatanywhere.cn/v1\"\n",
    ")"
   ]
  },
  {
   "cell_type": "code",
   "execution_count": 18,
   "metadata": {},
   "outputs": [
    {
     "name": "stdout",
     "output_type": "stream",
     "text": [
      "鲁迅和周树人是20世纪中国文学界的两位重要人物，他们之间有着复杂的关系。\n",
      "\n",
      "鲁迅和周树人都是五四新文化运动的杰出代表人物，都曾是胡适创办的《新青年》杂志的编辑，都提倡文学革命，主张文学要为社会进步和民族独立而服务。在五四运动时期，他们曾是朋友和同志，共同为中国的文学和社会发展做出了重要贡献。\n",
      "\n",
      "然而，鲁迅和周树人在文学观念和文学创作方面存在一些分歧。鲁迅更加关注社会现实和人性的黑暗面，主张文学应该揭露社会的丑陋和剥削，呼吁文学要有社会责任感；而周树人则更加重视文学的审美性和个人表达，提倡文学应该以艺术为中心，追求艺术的完美和自由。\n",
      "\n",
      "由于这种分歧，以及后来在政治立场上的不同选择，鲁迅和周树人之间逐渐产生了裂痕，两人的关系逐渐疏远。尽管如此，他们在中国文学史上的地位和影响仍然是不可撼动的，都是中国近现代文学的巨擎。"
     ]
    }
   ],
   "source": [
    "def gpt_35_api(messages: list):\n",
    "    \"\"\"为提供的对话消息创建新的回答\n",
    "\n",
    "    Args:\n",
    "        messages (list): 完整的对话消息\n",
    "    \"\"\"\n",
    "    completion = client.chat.completions.create(model=\"gpt-3.5-turbo\", messages=messages)\n",
    "    print(completion.choices[0].message.content)\n",
    "\n",
    "def gpt_35_api_stream(messages: list):\n",
    "    \"\"\"为提供的对话消息创建新的回答 (流式传输)\n",
    "\n",
    "    Args:\n",
    "        messages (list): 完整的对话消息\n",
    "    \"\"\"\n",
    "    stream = client.chat.completions.create(\n",
    "        model='gpt-3.5-turbo',\n",
    "        messages=messages,\n",
    "        stream=True,\n",
    "    )\n",
    "    for chunk in stream:\n",
    "        if chunk.choices[0].delta.content is not None:\n",
    "            print(chunk.choices[0].delta.content, end=\"\")\n",
    "\n",
    "if __name__ == '__main__':\n",
    "    messages = [{'role': 'user','content': '鲁迅和周树人的关系'},]\n",
    "    # 非流式调用\n",
    "    # gpt_35_api(messages)\n",
    "    # 流式调用\n",
    "    gpt_35_api_stream(messages)"
   ]
  },
  {
   "cell_type": "code",
   "execution_count": null,
   "metadata": {},
   "outputs": [],
   "source": [
    "from langchain.llms import OpenAI\n",
    "llm = client.chat. (temperature=0.9)\n",
    "text = \"Write me an outline on Tennis\"\n",
    "print(llm(text))"
   ]
  }
 ],
 "metadata": {
  "kernelspec": {
   "display_name": "Python 3",
   "language": "python",
   "name": "python3"
  },
  "language_info": {
   "codemirror_mode": {
    "name": "ipython",
    "version": 3
   },
   "file_extension": ".py",
   "mimetype": "text/x-python",
   "name": "python",
   "nbconvert_exporter": "python",
   "pygments_lexer": "ipython3",
   "version": "3.10.5"
  }
 },
 "nbformat": 4,
 "nbformat_minor": 2
}
